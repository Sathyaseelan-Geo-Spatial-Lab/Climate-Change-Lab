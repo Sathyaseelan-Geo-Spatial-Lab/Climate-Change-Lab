{
  "nbformat": 4,
  "nbformat_minor": 0,
  "metadata": {
    "colab": {
      "provenance": [],
      "authorship_tag": "ABX9TyNzOqp1V7S+zv7Drt7W+l0c",
      "include_colab_link": true
    },
    "kernelspec": {
      "name": "python3",
      "display_name": "Python 3"
    },
    "language_info": {
      "name": "python"
    }
  },
  "cells": [
    {
      "cell_type": "markdown",
      "metadata": {
        "id": "view-in-github",
        "colab_type": "text"
      },
      "source": [
        "<a href=\"https://colab.research.google.com/github/Sathyaseelan-Geo-Spatial-Lab/Climate-Change-Lab/blob/main/EnMAP_CH4.ipynb\" target=\"_parent\"><img src=\"https://colab.research.google.com/assets/colab-badge.svg\" alt=\"Open In Colab\"/></a>"
      ]
    },
    {
      "cell_type": "code",
      "source": [
        "# Try this first:\n",
        "# !pip install git+https://github.com/spaceml-org/STARCOP.git\n",
        "\n",
        "# But for Google Colab (as of January 2025) instead use:\n",
        "!pip install git+https://github.com/spaceml-org/georeader.git\n",
        "!pip install torch==2.0.0 torchvision==0.15.1 torchtext==0.15.1 pytorch-lightning==2.2\n",
        "!pip install fsspec gcsfs omegaconf kornia==0.6.7  torchmetrics==0.10.0 wandb segmentation_models_pytorch hydra-core ipython rasterio  geopandas ipykernel matplotlib scikit-image scikit-learn wandb==0.13.3\n",
        "!pip install netCDF4 spectral\n",
        "\n",
        "!pip install huggingface_hub[cli,torch]\n",
        "!pip install matplotlib-scalebar"
      ],
      "metadata": {
        "id": "7eN1EkWtBBEz"
      },
      "execution_count": null,
      "outputs": []
    },
    {
      "cell_type": "code",
      "source": [
        "!git clone https://github.com/spaceml-org/STARCOP.git"
      ],
      "metadata": {
        "id": "moRVv29CA_dT"
      },
      "execution_count": null,
      "outputs": []
    },
    {
      "cell_type": "code",
      "source": [
        "%cd STARCOP"
      ],
      "metadata": {
        "id": "HBqi_ZcNA-1r"
      },
      "execution_count": null,
      "outputs": []
    },
    {
      "cell_type": "code",
      "source": [
        "from huggingface_hub import hf_hub_download\n",
        "from georeader.readers import emit\n",
        "from starcop.models import mag1c_emit\n",
        "from georeader import plot\n",
        "import starcop\n",
        "from starcop.models.model_module import ModelModule\n",
        "import os\n",
        "import torch\n",
        "import omegaconf\n",
        "import numpy as np\n",
        "import matplotlib.pyplot as plt\n",
        "from starcop.models.utils import padding\n",
        "import georeader\n",
        "\n",
        "link = emit.get_radiance_link(\"EMIT_L1B_RAD_001_20220827T060753_2223904_013.nc\")\n",
        "print(\"Download\", link)\n",
        "\n",
        "# NASA's data archive requires creating an account for downloading EMIT files directly.\n",
        "# Add the user and password of the NASA Earthdata portal (https://search.earthdata.nasa.gov/search)\n",
        "product = emit.download_product(link,\n",
        "                                auth=(\"user\",\"password\"))\n",
        "\n",
        "rst = emit.EMITImage(product)\n",
        "rst"
      ],
      "metadata": {
        "id": "XTqQhAAHA9Aj"
      },
      "execution_count": null,
      "outputs": []
    },
    {
      "cell_type": "code",
      "source": [
        "# alernatively for the sake of this demo, we also uploaded this scene on our gdrive (but if these two files are missing, please use the above download instead)\n",
        "!gdown 1jyFejO80Q82qUZ5tRPaDTqsBHefuXYa0\n",
        "!gdown 1a9k2YZDXfa4g95KlqCcKfkYcaA-QegYU\n",
        "!ls\n",
        "\n",
        "rst = emit.EMITImage(\"EMIT_L1B_RAD_001_20220827T060753_2223904_013.nc\")\n",
        "rst"
      ],
      "metadata": {
        "id": "shjOH-f3A5DL"
      },
      "execution_count": null,
      "outputs": []
    },
    {
      "cell_type": "code",
      "source": [
        "wavelengths_read = np.array([2000, 550, 460])\n",
        "\n",
        "bands_read = np.argmin(np.abs(wavelengths_read[:, np.newaxis] - rst.wavelengths), axis=1).tolist()\n",
        "rst_rgb = rst.read_from_bands(bands_read)\n",
        "rst_rgb"
      ],
      "metadata": {
        "id": "8N0rkDarA22s"
      },
      "execution_count": null,
      "outputs": []
    },
    {
      "cell_type": "code",
      "source": [
        "rgb_raw = rst_rgb.load_raw(transpose=True)\n",
        "plt.imshow((rgb_raw/12).clip(0,1).transpose(1,2,0))"
      ],
      "metadata": {
        "id": "Q3pk2pzPA1P7"
      },
      "execution_count": null,
      "outputs": []
    },
    {
      "cell_type": "code",
      "source": [
        "mfoutput, albedo = mag1c_emit.mag1c_emit(rst, column_step=2, georreferenced=False)\n",
        "mfoutput"
      ],
      "metadata": {
        "id": "XXWHES-jAzMb"
      },
      "execution_count": null,
      "outputs": []
    },
    {
      "cell_type": "code",
      "source": [
        "plt.imshow(mfoutput, vmin=0,vmax=1750)\n",
        "plt.title(\"$\\Delta$CH$_4$ [ppm x m]\")\n",
        "plt.colorbar()"
      ],
      "metadata": {
        "id": "HATQykhRAxVc"
      },
      "execution_count": null,
      "outputs": []
    },
    {
      "cell_type": "code",
      "source": [
        "from huggingface_hub import hf_hub_download\n",
        "# experiment_name = \"hyperstarcop_mag1c_only\"\n",
        "experiment_name = \"hyperstarcop_mag1c_rgb\"\n",
        "subfolder_local = f\"models/{experiment_name}\"\n",
        "config_file = hf_hub_download(repo_id=\"isp-uv-es/starcop\",subfolder=subfolder_local, filename=\"config.yaml\",\n",
        "                              local_dir=\".\", local_dir_use_symlinks=False)\n",
        "model_file = hf_hub_download(repo_id=\"isp-uv-es/starcop\",subfolder=subfolder_local,\n",
        "                             filename=\"final_checkpoint_model.ckpt\",\n",
        "                              local_dir=\".\", local_dir_use_symlinks=False)"
      ],
      "metadata": {
        "id": "Sg4-j3slAu6U"
      },
      "execution_count": null,
      "outputs": []
    },
    {
      "cell_type": "code",
      "source": [
        "hsi_model_path = os.path.join(subfolder_local, \"final_checkpoint_model.ckpt\")\n",
        "hsi_config_path =  os.path.join(subfolder_local, \"config.yaml\")\n",
        "\n",
        "device = torch.device(\"cpu\")\n",
        "config_general = omegaconf.OmegaConf.load(os.path.join(os.path.dirname(os.path.abspath(starcop.__file__)), 'config.yaml'))\n",
        "\n",
        "def load_model_with_emit(model_path, config_path):\n",
        "    config_model = omegaconf.OmegaConf.load(config_path)\n",
        "    config = omegaconf.OmegaConf.merge(config_general, config_model)\n",
        "\n",
        "    model = ModelModule.load_from_checkpoint(model_path, settings=config)\n",
        "    model.to(device)\n",
        "    model.eval() # !\n",
        "\n",
        "    print(\"Loaded model with\",model.num_channels,\"input channels\")\n",
        "\n",
        "    return model, config\n",
        "\n",
        "hsi_model, hsi_config = load_model_with_emit(hsi_model_path, hsi_config_path)\n",
        "print(\"successfully loaded HyperSTARCOP model!\")"
      ],
      "metadata": {
        "id": "LSuW-JQHAt_M"
      },
      "execution_count": null,
      "outputs": []
    },
    {
      "cell_type": "code",
      "execution_count": null,
      "metadata": {
        "id": "e8VCCO4vrvwd"
      },
      "outputs": [],
      "source": [
        "# Data re-normalisation to fit the range of our models\n",
        "# (these params were found from statistics of the training datasets and data ranges)\n",
        "\n",
        "# DIV the EMIT data by\n",
        "MAGIC_DIV_BY = 240.\n",
        "RGB_DIV_BY = 20.\n",
        "# clipping too large values\n",
        "MAGIC_CLIP_TO = [0.,2.]\n",
        "RGB_CLIP_TO =   [0.,2.]\n",
        "# MULT_BY to get it back to the range we saw in the AVIRIS data ...\n",
        "MAGIC_MULT_BY = 1750.\n",
        "RGB_MULT_BY =   60.\n",
        "\n",
        "\n",
        "# NORMALISE\n",
        "# emit rgb has max ~22\n",
        "e_mag1c = np.clip(mfoutput / MAGIC_DIV_BY, MAGIC_CLIP_TO[0], MAGIC_CLIP_TO[1]) * MAGIC_MULT_BY\n",
        "e_rgb = np.clip(rgb_raw / RGB_DIV_BY, RGB_CLIP_TO[0], RGB_CLIP_TO[1]) * RGB_MULT_BY\n",
        "input_data = np.concatenate([e_mag1c[None], e_rgb], axis=0)\n",
        "input_data.shape"
      ]
    },
    {
      "cell_type": "code",
      "source": [
        "crs_utm = georeader.get_utm_epsg(rst.footprint(\"EPSG:4326\"))\n",
        "emit_image_utm = rst.to_crs(crs_utm)"
      ],
      "metadata": {
        "id": "r89hBqbisAZt"
      },
      "execution_count": null,
      "outputs": []
    },
    {
      "cell_type": "code",
      "source": [
        "mfgeo = emit_image_utm.georreference(mfoutput, fill_value_default=-1)\n",
        "predgeo = emit_image_utm.georreference(pred[0], fill_value_default=0)\n",
        "rgbgeo = emit_image_utm.georreference(rgb_raw, fill_value_default=-1)"
      ],
      "metadata": {
        "id": "FT5j8C_KsDQN"
      },
      "execution_count": null,
      "outputs": []
    },
    {
      "cell_type": "code",
      "source": [
        "fig, ax = plt.subplots(1,3, figsize=(18,6),sharey=True)\n",
        "\n",
        "rgbgeomask = np.any(rgbgeo.values == -1, axis=0,keepdims=False)\n",
        "rgbplot = (rgbgeo/12).clip(0,1)\n",
        "rgbplot.values[:, rgbgeomask] = -1\n",
        "plot.show(rgbplot, ax=ax[0], title= \"RGB\",mask=True, add_scalebar=True)\n",
        "plot.show(mfgeo, ax=ax[1], title= \"$\\Delta$CH$_4$ [ppm x m]\",mask=True,vmin=0, vmax=1750,\n",
        "         add_colorbar_next_to=True, add_scalebar=True)\n",
        "plot.show(predgeo, ax=ax[2], title= \"pred\", mask=True, vmin=0, vmax=1, add_scalebar=True,\n",
        "          add_colorbar_next_to=True)"
      ],
      "metadata": {
        "id": "uvJQFCZVAie7"
      },
      "execution_count": null,
      "outputs": []
    }
  ]
}